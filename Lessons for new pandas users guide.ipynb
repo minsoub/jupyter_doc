{
 "cells": [
  {
   "cell_type": "markdown",
   "metadata": {},
   "source": [
    "# Lessons for new pands users"
   ]
  },
  {
   "cell_type": "markdown",
   "metadata": {},
   "source": [
    "참조 URL : https://pandas.pydata.org/pandas-docs/stable/tutorials.html <br><br>\n",
    "<b>01 - Lesson :</b> <a href='Pandas.ipynb'>Pands.ipynb</a><br>\n",
    "- Importing libraries <br>\n",
    "- Creating data sets <br>\n",
    "- Creating data frames <br>\n",
    "- Reading from CSV <br>\n",
    "- Exporting to CSV <br>\n",
    "- Finding maximums <br>\n",
    "- Plotting data"
   ]
  },
  {
   "cell_type": "markdown",
   "metadata": {},
   "source": [
    "<b>02 - Lesson:</b> <a href='lesson_02.ipynb'>Lesson 02</a><br>\n",
    "- Reading from TXT <br>\n",
    "- Exporting to TXT<br>\n",
    "- Selecting top/bottom records<br>\n",
    "- Descriptive statistics<br>\n",
    "- Grouping/sorting data"
   ]
  },
  {
   "cell_type": "markdown",
   "metadata": {},
   "source": [
    "<b>03 - Lession: </b><a href='lession_03.ipynb'>Lession 03</a><br>\n",
    "- Creating functions\n",
    "- Reading from EXCEL\n",
    "- Exporting to EXCEL\n",
    "- Outliers\n",
    "- Lambda functions\n",
    "- Slice and dice data"
   ]
  },
  {
   "cell_type": "markdown",
   "metadata": {},
   "source": [
    "<b>04 - Lession:</b> <a href='lession_04.ipynb'>Lesson 04</a><br>\n",
    "- Adding/deleting columns\n",
    "- Index operations"
   ]
  },
  {
   "cell_type": "markdown",
   "metadata": {},
   "source": [
    "<b>05 - Lession:</b> <a href='lesson_05.ipynb'>Lesson 05</a><br>\n",
    "- Stack/Unstack/Transpose functions"
   ]
  },
  {
   "cell_type": "markdown",
   "metadata": {},
   "source": [
    "<b>06 - Lession:</b> <a href='lesson_06.ipynb'>Lession 06</a><br>\n",
    "- GroupBy function"
   ]
  },
  {
   "cell_type": "markdown",
   "metadata": {},
   "source": [
    "<b>07 - Lession:</b> <a href='lesson_07.ipynb'>Lession 07</a><br>\n",
    "- Ways to calculate outliers"
   ]
  },
  {
   "cell_type": "markdown",
   "metadata": {},
   "source": [
    "<b>08 - Lession:</b> <a href='lesson_08.ipynb'>Lession 08</a><br>\n",
    "- Read from Microsoft SQL databases"
   ]
  },
  {
   "cell_type": "markdown",
   "metadata": {},
   "source": [
    "<b>09 - Lession:</b> <a href='lesson_09.ipynb'>Lession 09</a><br>\n",
    "- Export to CSV/EXCEL/TXT"
   ]
  },
  {
   "cell_type": "markdown",
   "metadata": {},
   "source": [
    "<b>10 - Lession:</b> <a href='lesson_10.ipynb'>Lession 10</a><br>\n",
    "- Converting between different kinds of formats"
   ]
  },
  {
   "cell_type": "markdown",
   "metadata": {},
   "source": [
    "<b>11 - Lession:</b> <a href='lesson_11.ipynb'>Lession 11</a><br>\n",
    "- Combining data from various sources"
   ]
  },
  {
   "cell_type": "code",
   "execution_count": null,
   "metadata": {},
   "outputs": [],
   "source": []
  }
 ],
 "metadata": {
  "kernelspec": {
   "display_name": "Python 3",
   "language": "python",
   "name": "python3"
  },
  "language_info": {
   "codemirror_mode": {
    "name": "ipython",
    "version": 3
   },
   "file_extension": ".py",
   "mimetype": "text/x-python",
   "name": "python",
   "nbconvert_exporter": "python",
   "pygments_lexer": "ipython3",
   "version": "3.7.2"
  }
 },
 "nbformat": 4,
 "nbformat_minor": 2
}
