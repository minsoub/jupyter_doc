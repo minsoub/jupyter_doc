{
 "cells": [
  {
   "cell_type": "markdown",
   "metadata": {},
   "source": [
    "# Lessons for new pands users"
   ]
  },
  {
   "cell_type": "markdown",
   "metadata": {},
   "source": [
    "참조 URL : https://pandas.pydata.org/pandas-docs/stable/tutorials.html <br><br>\n",
    "<b>01 - Lesson :</b> <a href='Pandas.ipynb'>Pands.ipynb</a><br>\n",
    "- Importing libraries <br>\n",
    "- Creating data sets <br>\n",
    "- Creating data frames <br>\n",
    "- Reading from CSV <br>\n",
    "- Exporting to CSV <br>\n",
    "- Finding maximums <br>\n",
    "- Plotting data"
   ]
  },
  {
   "cell_type": "markdown",
   "metadata": {},
   "source": [
    "<b>02 - Lesson:</b> <a href='lesson_02.ipynb'>Lesson 02</a><br>\n",
    "- Reading from TXT <br>\n",
    "- Exporting to TXT<br>\n",
    "- Selecting top/bottom records<br>\n",
    "- Descriptive statistics<br>\n",
    "- Grouping/sorting data"
   ]
  },
  {
   "cell_type": "markdown",
   "metadata": {},
   "source": [
    "<b>03 - Lession: </b><a href='lession_03.ipynb'>Lession 03</a><br>\n",
    "- Creating functions\n",
    "- Reading from EXCEL\n",
    "- Exporting to EXCEL\n",
    "- Outliers\n",
    "- Lambda functions\n",
    "- Slice and dice data"
   ]
  },
  {
   "cell_type": "code",
   "execution_count": null,
   "metadata": {},
   "outputs": [],
   "source": []
  }
 ],
 "metadata": {
  "kernelspec": {
   "display_name": "Python 3",
   "language": "python",
   "name": "python3"
  },
  "language_info": {
   "codemirror_mode": {
    "name": "ipython",
    "version": 3
   },
   "file_extension": ".py",
   "mimetype": "text/x-python",
   "name": "python",
   "nbconvert_exporter": "python",
   "pygments_lexer": "ipython3",
   "version": "3.7.2"
  }
 },
 "nbformat": 4,
 "nbformat_minor": 2
}
